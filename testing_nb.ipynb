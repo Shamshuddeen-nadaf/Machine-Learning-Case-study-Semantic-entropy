{
  "cells": [
    {
      "cell_type": "code",
      "execution_count": 4,
      "id": "ca99766a",
      "metadata": {
        "colab": {
          "base_uri": "https://localhost:8080/",
          "height": 366
        },
        "id": "ca99766a",
        "outputId": "4dac3c9b-7c8c-4aea-d92a-96ebd5c4f2c7"
      },
      "outputs": [
        {
          "name": "stdout",
          "output_type": "stream",
          "text": [
            "[['paris is the capital of France', \"France's capital is Paris\"], ['It is raining'], ['It is sunny'], ['It is cloudy']]\n"
          ]
        }
      ],
      "source": [
        "import sys\n",
        "sys.path.append(\"./Semantic-Entropy-Semantic-Clustering/semantic_entropy\")\n",
        "from semantic_entropy.semantic_clustering import isEntailment,cluster_by_entailment\n",
        "isEntailment(\"A dog is a pet\", \"A cat is a dog\")\n",
        "responses = [\n",
        "    \"paris is the capital of France\",\n",
        "    \"France's capital is Paris\",\n",
        "    \"It is raining\",\n",
        "    \"It is sunny\",\n",
        "    \"It is cloudy\",]\n",
        "clusters = cluster_by_entailment(responses, threshold=0.7)\n",
        "print(clusters)"
      ]
    },
    {
      "cell_type": "code",
      "execution_count": null,
      "id": "bawjN8XhSIt2",
      "metadata": {
        "id": "bawjN8XhSIt2"
      },
      "outputs": [],
      "source": []
    }
  ],
  "metadata": {
    "colab": {
      "provenance": []
    },
    "kernelspec": {
      "display_name": "base",
      "language": "python",
      "name": "python3"
    },
    "language_info": {
      "codemirror_mode": {
        "name": "ipython",
        "version": 3
      },
      "file_extension": ".py",
      "mimetype": "text/x-python",
      "name": "python",
      "nbconvert_exporter": "python",
      "pygments_lexer": "ipython3",
      "version": "3.12.7"
    }
  },
  "nbformat": 4,
  "nbformat_minor": 5
}
